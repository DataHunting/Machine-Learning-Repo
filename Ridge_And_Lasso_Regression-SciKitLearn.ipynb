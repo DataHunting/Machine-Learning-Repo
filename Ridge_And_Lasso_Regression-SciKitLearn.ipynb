{
 "cells": [
  {
   "cell_type": "code",
   "execution_count": 1,
   "id": "819c33bf",
   "metadata": {},
   "outputs": [],
   "source": [
    "import numpy as np\n",
    "import pandas as pd\n",
    "import matplotlib.pyplot as plt\n",
    "%matplotlib inline\n",
    "import seaborn as sns\n",
    "\n",
    "from sklearn.linear_model import LinearRegression\n",
    "from sklearn.linear_model import Ridge\n",
    "from sklearn.linear_model import Lasso\n",
    "from sklearn.metrics import r2_score"
   ]
  },
  {
   "cell_type": "code",
   "execution_count": 2,
   "id": "01e423b7",
   "metadata": {},
   "outputs": [],
   "source": [
    "# Data Reading & Cleaning\n",
    "cdata = pd.read_csv(\"car-mpg.csv\")\n",
    "cdata = cdata.drop('car_name', axis = 1)\n",
    "cdata['origin'] = cdata['origin'].replace({1:'america', 2:'europe', 3:'asia'})\n",
    "cdata = pd.get_dummies(cdata, columns = ['origin'])\n",
    "cdata = cdata.replace('?', np.nan)\n",
    "cdata = cdata.apply(lambda x: x.fillna(x.median()), axis=0)"
   ]
  },
  {
   "cell_type": "code",
   "execution_count": 3,
   "id": "1b8aaaac",
   "metadata": {},
   "outputs": [],
   "source": [
    "X = cdata.drop(['mpg','origin_europe'], axis = 1)\n",
    "y = cdata[['mpg']]"
   ]
  },
  {
   "cell_type": "code",
   "execution_count": 4,
   "id": "21871e14",
   "metadata": {},
   "outputs": [],
   "source": [
    "from sklearn import preprocessing\n",
    "\n",
    "X_scaled = preprocessing.scale(X)\n",
    "X_scaled = pd.DataFrame(X_scaled, columns = X.columns)\n",
    "\n",
    "y_scaled = preprocessing.scale(y)\n",
    "y_scaled = pd.DataFrame(y_scaled, columns=y.columns)"
   ]
  },
  {
   "cell_type": "code",
   "execution_count": 8,
   "id": "e471d23e",
   "metadata": {},
   "outputs": [],
   "source": [
    "from sklearn.model_selection import train_test_split\n",
    "\n",
    "X_train, X_test, y_train, y_test = train_test_split(X_scaled, y_scaled, test_size = 0.3, random_state = 1)"
   ]
  },
  {
   "cell_type": "code",
   "execution_count": 9,
   "id": "64832625",
   "metadata": {},
   "outputs": [
    {
     "name": "stdout",
     "output_type": "stream",
     "text": [
      "Coefficients of cyl is 0.3210223856916103\n",
      "Coefficients of disp is 0.3248343091848393\n",
      "Coefficients of hp is -0.22916950059437619\n",
      "Coefficients of wt is -0.7112101905072298\n",
      "Coefficients of acc is 0.014713682764191044\n",
      "Coefficients of yr is 0.37558119495107434\n",
      "Coefficients of car_type is 0.3814769484233099\n",
      "Coefficients of origin_america is -0.13618215843840364\n",
      "Coefficients of origin_asia is -0.006137890589388876\n",
      "Intercept of model is 0.01928411610363973\n",
      "0.8343770256960538\n",
      "0.8513421387780067\n"
     ]
    }
   ],
   "source": [
    "# Fit A Simple Regression Model\n",
    "\n",
    "regression_model = LinearRegression()\n",
    "regression_model.fit(X_train, y_train)\n",
    "\n",
    "for idx, col_name in enumerate(X_train.columns):\n",
    "    print(\"Coefficients of {} is {}\".format(col_name, regression_model.coef_[0][idx]))\n",
    "    \n",
    "intercept = regression_model.intercept_[0]\n",
    "print(\"Intercept of model is {}\".format(intercept))\n",
    "\n",
    "print(regression_model.score(X_train, y_train))\n",
    "print(regression_model.score(X_test, y_test))"
   ]
  },
  {
   "cell_type": "code",
   "execution_count": 10,
   "id": "f8090d30",
   "metadata": {},
   "outputs": [
    {
     "name": "stdout",
     "output_type": "stream",
     "text": [
      "Ridge model: [[ 0.31658439  0.31300635 -0.22875871 -0.70101302  0.01295503  0.37442624\n",
      "   0.37733935 -0.13479863 -0.00552806]]\n",
      "0.8343615817491262\n",
      "0.8519030143807422\n"
     ]
    }
   ],
   "source": [
    "# Fit A Ridge Model (L2 Regularization)\n",
    "\n",
    "ridge_model = Ridge(alpha=0.3)\n",
    "ridge_model.fit(X_train, y_train)\n",
    "print(\"Ridge model:\", (ridge_model.coef_))\n",
    "print(ridge_model.score(X_train, y_train))\n",
    "print(ridge_model.score(X_test, y_test))"
   ]
  },
  {
   "cell_type": "code",
   "execution_count": 11,
   "id": "730c0ab1",
   "metadata": {},
   "outputs": [
    {
     "name": "stdout",
     "output_type": "stream",
     "text": [
      "Ridge model: [-0.         -0.         -0.01690287 -0.51890013  0.          0.28138241\n",
      "  0.1278489  -0.01642647  0.        ]\n",
      "0.7938010766228453\n",
      "0.8375229615977083\n"
     ]
    }
   ],
   "source": [
    "# Fit A Lasso Model (L1 Regularization)\n",
    "\n",
    "lasso_model = Lasso(alpha=0.1)\n",
    "lasso_model.fit(X_train, y_train)\n",
    "print(\"Ridge model:\", (lasso_model.coef_))\n",
    "print(lasso_model.score(X_train, y_train))\n",
    "print(lasso_model.score(X_test, y_test))"
   ]
  },
  {
   "cell_type": "code",
   "execution_count": 12,
   "id": "cb71e81a",
   "metadata": {},
   "outputs": [],
   "source": [
    "# More or less similar results but with less complex models.  Complexity is a function of variables and coefficients\n",
    "## Note - with Lasso, we get equally good result in test though not so in training.  Further, the number of dimensions is much less\n",
    "# in LASSO model than ridge or un-regularized model"
   ]
  },
  {
   "cell_type": "code",
   "execution_count": 16,
   "id": "1bf1ce42",
   "metadata": {},
   "outputs": [
    {
     "data": {
      "text/plain": [
       "(278, 46)"
      ]
     },
     "execution_count": 16,
     "metadata": {},
     "output_type": "execute_result"
    }
   ],
   "source": [
    "## Adding Interaction Terms to Increase model complexity\n",
    "\n",
    "from sklearn.preprocessing import PolynomialFeatures\n",
    "\n",
    "poly = PolynomialFeatures(degree = 2, interaction_only = True)\n",
    "X_poly = poly.fit_transform(X_scaled)\n",
    "\n",
    "X_train, X_test, y_train, y_test = train_test_split(X_poly, y_scaled, test_size = 0.3, random_state = 1)\n",
    "X_train.shape"
   ]
  },
  {
   "cell_type": "code",
   "execution_count": 17,
   "id": "05774a68",
   "metadata": {},
   "outputs": [
    {
     "name": "stdout",
     "output_type": "stream",
     "text": [
      "[ 4.48534254e-14 -4.80956948e+11 -5.51112240e-01 -2.98339652e-01\n",
      " -3.80620057e-01 -1.98438818e-01  3.84788700e-01 -6.40384302e+11\n",
      " -1.64919947e+11  7.48400761e+11 -1.48422513e-01 -1.81963946e-01\n",
      "  4.15779915e-03  3.45336460e-01 -2.49827130e-01 -1.54090741e+12\n",
      " -1.49419515e+12  1.28985232e+00  6.07234883e-02  1.84721766e-02\n",
      " -6.64053099e-02  4.64088056e-01 -2.54320635e-01  1.87056165e-01\n",
      " -7.78781465e-01  3.58271877e-02 -7.18845289e-02 -2.54334131e-01\n",
      " -8.91939139e-02 -2.22423476e-01 -2.11968460e-02 -2.01984593e-02\n",
      "  6.81451859e-02 -4.09083199e-01 -9.20136632e-03  2.62071451e-01\n",
      "  6.66780746e-02  2.20932612e-01 -1.82740598e-01 -1.79983902e-01\n",
      "  5.35457649e-02 -1.02800084e-01  1.23152231e-02 -8.77924484e+11\n",
      "  5.30348753e-01  5.78932167e+11]\n",
      "0.9149133827619226\n",
      "0.8586272303875542\n"
     ]
    }
   ],
   "source": [
    "# Regression Model\n",
    "\n",
    "regression_model.fit(X_train, y_train)\n",
    "print(regression_model.coef_[0])\n",
    "print(regression_model.score(X_train, y_train))\n",
    "print(regression_model.score(X_test, y_test))"
   ]
  },
  {
   "cell_type": "code",
   "execution_count": 18,
   "id": "fd3788a7",
   "metadata": {},
   "outputs": [
    {
     "name": "stdout",
     "output_type": "stream",
     "text": [
      "[[ 0.          0.46885355 -0.37402127 -0.27089854 -0.46317828 -0.16311881\n",
      "   0.38622902  0.23163975  0.05750483  0.05631796 -0.18330425 -0.14913042\n",
      "  -0.00190077  0.31347509 -0.21325107  0.02784534 -0.15822531  0.76956105\n",
      "   0.04194593  0.03727214 -0.05285657  0.39111239 -0.28346519  0.21829204\n",
      "  -0.32564817  0.02123812 -0.06697644 -0.23952141 -0.09061334 -0.20705001\n",
      "  -0.00695606 -0.03625414  0.07317645 -0.39531717 -0.03127763  0.07598792\n",
      "   0.06354046  0.18321052 -0.18031527 -0.12535362  0.04665224 -0.09707233\n",
      "   0.01599254 -0.23507189  0.24895732 -0.10142059]]\n",
      "0.9141778746823366\n",
      "0.860308526311051\n"
     ]
    }
   ],
   "source": [
    "# Ridge Model with L2 Regularization\n",
    "\n",
    "ridge_model.fit(X_train, y_train)\n",
    "print(ridge_model.coef_)\n",
    "print(ridge_model.score(X_train, y_train))\n",
    "print(ridge_model.score(X_test, y_test))"
   ]
  },
  {
   "cell_type": "code",
   "execution_count": 19,
   "id": "b489fee1",
   "metadata": {},
   "outputs": [
    {
     "name": "stdout",
     "output_type": "stream",
     "text": [
      "[ 0.         -0.         -0.         -0.03743801 -0.53257778  0.\n",
      "  0.28388087  0.1133023  -0.0031615   0.          0.          0.\n",
      "  0.         -0.         -0.          0.          0.         -0.\n",
      "  0.          0.         -0.         -0.         -0.          0.\n",
      " -0.          0.00183785 -0.         -0.         -0.          0.\n",
      " -0.         -0.         -0.01793031 -0.          0.         -0.\n",
      "  0.          0.         -0.05293357  0.          0.         -0.\n",
      "  0.         -0.          0.         -0.        ]\n",
      "0.8126132956294494\n",
      "0.8502441371995254\n"
     ]
    }
   ],
   "source": [
    "# Lasso Model with L1 Regularization\n",
    "\n",
    "lasso_model.fit(X_train, y_train)\n",
    "print(lasso_model.coef_)\n",
    "print(lasso_model.score(X_train, y_train))\n",
    "print(lasso_model.score(X_test, y_test))"
   ]
  },
  {
   "cell_type": "code",
   "execution_count": null,
   "id": "1433f018",
   "metadata": {},
   "outputs": [],
   "source": []
  }
 ],
 "metadata": {
  "kernelspec": {
   "display_name": "Python 3 (ipykernel)",
   "language": "python",
   "name": "python3"
  },
  "language_info": {
   "codemirror_mode": {
    "name": "ipython",
    "version": 3
   },
   "file_extension": ".py",
   "mimetype": "text/x-python",
   "name": "python",
   "nbconvert_exporter": "python",
   "pygments_lexer": "ipython3",
   "version": "3.9.13"
  }
 },
 "nbformat": 4,
 "nbformat_minor": 5
}
